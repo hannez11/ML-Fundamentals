{
 "cells": [
  {
   "cell_type": "code",
   "execution_count": 10,
   "metadata": {},
   "outputs": [],
   "source": [
    "import numpy as np\n",
    "import pandas as pd\n",
    "from scipy.stats import t\n",
    "\n",
    "# Generate some example data\n",
    "np.random.seed(0)  # For reproducibility\n",
    "X = np.random.randn(100, 2)  # 100 samples, 2 features\n",
    "X = np.c_[np.ones(X.shape[0]), X]  # Add intercept term (column of ones)\n",
    "y = np.dot(X, np.array([1.5, -2, 0.5])) + np.random.randn(100)  # Generating a response\n",
    "\n",
    "# Creating a DataFrame with features and the target variable\n",
    "column_names = ['Intercept', 'Feature1', 'Feature2', 'Target']\n",
    "data = np.column_stack((X, y))\n",
    "df = pd.DataFrame(data, columns=column_names)\n",
    "\n",
    "# Save DataFrame to CSV\n",
    "# df.to_csv('regression_data.csv', index=False)\n",
    "# print(\"Data saved to 'regression_data.csv'\")"
   ]
  },
  {
   "cell_type": "markdown",
   "metadata": {},
   "source": [
    "# OLS Regression from scratch"
   ]
  },
  {
   "cell_type": "code",
   "execution_count": 11,
   "metadata": {},
   "outputs": [],
   "source": [
    "# Function to compute the OLS linear regression coefficients\n",
    "def linear_OLS(X, y):\n",
    "    \"\"\"\n",
    "    Calculate the coefficients of a linear regression using the Ordinary Least Squares method.\n",
    "    \n",
    "    Parameters:\n",
    "    X : numpy.ndarray\n",
    "        The matrix of input features. Should include a column of ones if the model includes an intercept.\n",
    "    y : numpy.ndarray\n",
    "        The vector of target values.\n",
    "    \n",
    "    Returns:\n",
    "    numpy.ndarray\n",
    "        The vector of calculated coefficients (beta values).\n",
    "    \"\"\"\n",
    "    # Step 1: Calculate the transpose of X\n",
    "    X_transpose = np.transpose(X)\n",
    "    \n",
    "    # Step 2: Calculate the dot product of X_transpose and X\n",
    "    X_trans_X = np.dot(X_transpose, X)\n",
    "    \n",
    "    # Step 3: Compute the inverse of the dot product of X_transpose and X\n",
    "    # This is often referred to as the 'covariance matrix' of the estimates\n",
    "    X_trans_X_inv = np.linalg.inv(X_trans_X)\n",
    "    \n",
    "    # Step 4: Calculate the dot product of the inverse covariance matrix and the transpose of X\n",
    "    X_trans_X_inv_X_trans = np.dot(X_trans_X_inv, X_transpose)\n",
    "    \n",
    "    # Step 5: Calculate the dot product of the above result with the vector of target values y\n",
    "    # This results in the vector of coefficients\n",
    "    coefficients = np.dot(X_trans_X_inv_X_trans, y)\n",
    "    \n",
    "    return coefficients, X_trans_X_inv # covariance matrix is needed for standard error calculation"
   ]
  },
  {
   "cell_type": "code",
   "execution_count": 16,
   "metadata": {},
   "outputs": [],
   "source": [
    "# Calculate standard errors of the coefficients\n",
    "def calculate_statistics(X, y, coefficients, covariance_matrix):\n",
    "    \"\"\"\n",
    "    Calculate standard errors for each regression coefficient.\n",
    "    \n",
    "    Parameters:\n",
    "    X : numpy.ndarray\n",
    "        The matrix of input features.\n",
    "    y : numpy.ndarray\n",
    "        The vector of target values.\n",
    "    coefficients : numpy.ndarray\n",
    "        The regression coefficients (betas).\n",
    "    covariance_matrix : numpy.ndarray\n",
    "        The inverse of the X'X matrix (covariance matrix of the estimates).\n",
    "    \n",
    "    Returns:\n",
    "    numpy.ndarray\n",
    "        The standard errors of the coefficients.\n",
    "    \"\"\"\n",
    "    residuals = y - np.dot(X, coefficients)\n",
    "    residual_variance = np.dot(residuals, residuals) / (len(y) - len(coefficients))\n",
    "    standard_errors = np.sqrt(np.diag(covariance_matrix) * residual_variance)\n",
    "    t_values = coefficients / standard_errors\n",
    "    \n",
    "    # Calculate p-values\n",
    "    degrees_of_freedom = len(y) - len(coefficients)\n",
    "    p_values = [2 * (1 - t.cdf(np.abs(t_val), df=degrees_of_freedom)) for t_val in t_values]\n",
    "    \n",
    "    # Calculate 95% confidence intervals\n",
    "    t_critical = t.ppf(0.975, df=degrees_of_freedom)  # two-sided 95% confidence, so 0.975\n",
    "    confidence_intervals = [(coef - t_critical * se, coef + t_critical * se) for coef, se in zip(coefficients, standard_errors)]\n",
    "    \n",
    "    return standard_errors, t_values, p_values, confidence_intervals"
   ]
  },
  {
   "cell_type": "code",
   "execution_count": 13,
   "metadata": {},
   "outputs": [
    {
     "data": {
      "text/plain": [
       "array([ 1.44858887, -1.8895351 ,  0.4459629 ])"
      ]
     },
     "execution_count": 13,
     "metadata": {},
     "output_type": "execute_result"
    }
   ],
   "source": [
    "# Calculate the OLS coefficients\n",
    "coefficients, cov_matrix = linear_OLS(X, y)\n",
    "coefficients"
   ]
  },
  {
   "cell_type": "code",
   "execution_count": 18,
   "metadata": {},
   "outputs": [
    {
     "name": "stdout",
     "output_type": "stream",
     "text": [
      "[0.09674321 0.09376987 0.09433688]\n",
      "[ 14.97354514 -20.15077118   4.72734426]\n",
      "[0.0, 0.0, 7.705912909772294e-06]\n",
      "[(1.2565803758289247, 1.640597373793624), (-2.0756423234442716, -1.703427872126597), (0.25873031035688443, 0.6331954899405732)]\n"
     ]
    }
   ],
   "source": [
    "# Calculate standard errors\n",
    "standard_errors, t_values, p_values, confidence_intervals = calculate_statistics(X, y, coefficients, cov_matrix)\n",
    "print(standard_errors)\n",
    "print(t_values)\n",
    "print(p_values)\n",
    "print(confidence_intervals)"
   ]
  },
  {
   "attachments": {
    "image.png": {
     "image/png": "[encoded data removed]"
    }
   },
   "cell_type": "markdown",
   "metadata": {},
   "source": [
    "![image.png](attachment:image.png)"
   ]
  }
 ],
 "metadata": {
  "kernelspec": {
   "display_name": "py3-12-3",
   "language": "python",
   "name": "python3"
  },
  "language_info": {
   "codemirror_mode": {
    "name": "ipython",
    "version": 3
   },
   "file_extension": ".py",
   "mimetype": "text/x-python",
   "name": "python",
   "nbconvert_exporter": "python",
   "pygments_lexer": "ipython3",
   "version": "3.12.3"
  }
 },
 "nbformat": 4,
 "nbformat_minor": 2
}
